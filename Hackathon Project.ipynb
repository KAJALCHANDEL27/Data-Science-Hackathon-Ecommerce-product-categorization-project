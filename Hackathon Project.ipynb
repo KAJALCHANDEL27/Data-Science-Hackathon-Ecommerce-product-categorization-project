{
 "cells": [
  {
   "cell_type": "markdown",
   "id": "fbcd4bed",
   "metadata": {},
   "source": [
    "# Data Science Hackathon:\n",
    "Ecommerce Product Categorization"
   ]
  },
  {
   "cell_type": "markdown",
   "id": "48792a3d",
   "metadata": {},
   "source": [
    "# Step 1: Importing necessary Libraries"
   ]
  },
  {
   "cell_type": "code",
   "execution_count": 1,
   "id": "e05b99b7",
   "metadata": {},
   "outputs": [],
   "source": [
    "import pandas as pd\n",
    "import seaborn as sns\n",
    "import matplotlib.pyplot as plt\n"
   ]
  },
  {
   "cell_type": "markdown",
   "id": "9a1009a0",
   "metadata": {},
   "source": [
    "## Step 2: Loading the dataset\n"
   ]
  },
  {
   "cell_type": "code",
   "execution_count": 2,
   "id": "044da958",
   "metadata": {},
   "outputs": [
    {
     "data": {
      "text/html": [
       "<div>\n",
       "<style scoped>\n",
       "    .dataframe tbody tr th:only-of-type {\n",
       "        vertical-align: middle;\n",
       "    }\n",
       "\n",
       "    .dataframe tbody tr th {\n",
       "        vertical-align: top;\n",
       "    }\n",
       "\n",
       "    .dataframe thead th {\n",
       "        text-align: right;\n",
       "    }\n",
       "</style>\n",
       "<table border=\"1\" class=\"dataframe\">\n",
       "  <thead>\n",
       "    <tr style=\"text-align: right;\">\n",
       "      <th></th>\n",
       "      <th>uniq_id</th>\n",
       "      <th>crawl_timestamp</th>\n",
       "      <th>product_url</th>\n",
       "      <th>product_name</th>\n",
       "      <th>product_category_tree</th>\n",
       "      <th>pid</th>\n",
       "      <th>retail_price</th>\n",
       "      <th>discounted_price</th>\n",
       "      <th>image</th>\n",
       "      <th>is_FK_Advantage_product</th>\n",
       "      <th>description</th>\n",
       "      <th>product_rating</th>\n",
       "      <th>overall_rating</th>\n",
       "      <th>brand</th>\n",
       "      <th>product_specifications</th>\n",
       "    </tr>\n",
       "  </thead>\n",
       "  <tbody>\n",
       "    <tr>\n",
       "      <th>0</th>\n",
       "      <td>c2d766ca982eca8304150849735ffef9</td>\n",
       "      <td>2016-03-25 22:59:23 +0000</td>\n",
       "      <td>http://www.flipkart.com/alisha-solid-women-s-c...</td>\n",
       "      <td>Alisha Solid Women's Cycling Shorts</td>\n",
       "      <td>Clothing</td>\n",
       "      <td>SRTEH2FF9KEDEFGF</td>\n",
       "      <td>999.0</td>\n",
       "      <td>379.0</td>\n",
       "      <td>[\"http://img5a.flixcart.com/image/short/u/4/a/...</td>\n",
       "      <td>False</td>\n",
       "      <td>Key Features of Alisha Solid Women's Cycling S...</td>\n",
       "      <td>No rating available</td>\n",
       "      <td>No rating available</td>\n",
       "      <td>Alisha</td>\n",
       "      <td>{\"product_specification\"=&gt;[{\"key\"=&gt;\"Number of ...</td>\n",
       "    </tr>\n",
       "    <tr>\n",
       "      <th>1</th>\n",
       "      <td>f449ec65dcbc041b6ae5e6a32717d01b</td>\n",
       "      <td>2016-03-25 22:59:23 +0000</td>\n",
       "      <td>http://www.flipkart.com/aw-bellies/p/itmeh4grg...</td>\n",
       "      <td>AW Bellies</td>\n",
       "      <td>Footwear</td>\n",
       "      <td>SHOEH4GRSUBJGZXE</td>\n",
       "      <td>999.0</td>\n",
       "      <td>499.0</td>\n",
       "      <td>[\"http://img5a.flixcart.com/image/shoe/7/z/z/r...</td>\n",
       "      <td>False</td>\n",
       "      <td>Key Features of AW Bellies Sandals Wedges Heel...</td>\n",
       "      <td>No rating available</td>\n",
       "      <td>No rating available</td>\n",
       "      <td>AW</td>\n",
       "      <td>{\"product_specification\"=&gt;[{\"key\"=&gt;\"Ideal For\"...</td>\n",
       "    </tr>\n",
       "    <tr>\n",
       "      <th>2</th>\n",
       "      <td>0973b37acd0c664e3de26e97e5571454</td>\n",
       "      <td>2016-03-25 22:59:23 +0000</td>\n",
       "      <td>http://www.flipkart.com/alisha-solid-women-s-c...</td>\n",
       "      <td>Alisha Solid Women's Cycling Shorts</td>\n",
       "      <td>Clothing</td>\n",
       "      <td>SRTEH2F6HUZMQ6SJ</td>\n",
       "      <td>699.0</td>\n",
       "      <td>267.0</td>\n",
       "      <td>[\"http://img5a.flixcart.com/image/short/6/2/h/...</td>\n",
       "      <td>False</td>\n",
       "      <td>Key Features of Alisha Solid Women's Cycling S...</td>\n",
       "      <td>No rating available</td>\n",
       "      <td>No rating available</td>\n",
       "      <td>Alisha</td>\n",
       "      <td>{\"product_specification\"=&gt;[{\"key\"=&gt;\"Number of ...</td>\n",
       "    </tr>\n",
       "    <tr>\n",
       "      <th>3</th>\n",
       "      <td>ce5a6818f7707e2cb61fdcdbba61f5ad</td>\n",
       "      <td>2016-03-25 22:59:23 +0000</td>\n",
       "      <td>http://www.flipkart.com/alisha-solid-women-s-c...</td>\n",
       "      <td>Alisha Solid Women's Cycling Shorts</td>\n",
       "      <td>Clothing</td>\n",
       "      <td>SRTEH2FVVKRBAXHB</td>\n",
       "      <td>1199.0</td>\n",
       "      <td>479.0</td>\n",
       "      <td>[\"http://img6a.flixcart.com/image/short/p/j/z/...</td>\n",
       "      <td>False</td>\n",
       "      <td>Key Features of Alisha Solid Women's Cycling S...</td>\n",
       "      <td>No rating available</td>\n",
       "      <td>No rating available</td>\n",
       "      <td>Alisha</td>\n",
       "      <td>{\"product_specification\"=&gt;[{\"key\"=&gt;\"Number of ...</td>\n",
       "    </tr>\n",
       "    <tr>\n",
       "      <th>4</th>\n",
       "      <td>29c8d290caa451f97b1c32df64477a2c</td>\n",
       "      <td>2016-03-25 22:59:23 +0000</td>\n",
       "      <td>http://www.flipkart.com/dilli-bazaaar-bellies-...</td>\n",
       "      <td>dilli bazaaar Bellies, Corporate Casuals, Casuals</td>\n",
       "      <td>Footwear</td>\n",
       "      <td>SHOEH3DZBFR88SCK</td>\n",
       "      <td>699.0</td>\n",
       "      <td>349.0</td>\n",
       "      <td>[\"http://img6a.flixcart.com/image/shoe/b/p/n/p...</td>\n",
       "      <td>False</td>\n",
       "      <td>Key Features of dilli bazaaar Bellies, Corpora...</td>\n",
       "      <td>No rating available</td>\n",
       "      <td>No rating available</td>\n",
       "      <td>dilli bazaaar</td>\n",
       "      <td>{\"product_specification\"=&gt;[{\"key\"=&gt;\"Occasion\",...</td>\n",
       "    </tr>\n",
       "  </tbody>\n",
       "</table>\n",
       "</div>"
      ],
      "text/plain": [
       "                            uniq_id            crawl_timestamp  \\\n",
       "0  c2d766ca982eca8304150849735ffef9  2016-03-25 22:59:23 +0000   \n",
       "1  f449ec65dcbc041b6ae5e6a32717d01b  2016-03-25 22:59:23 +0000   \n",
       "2  0973b37acd0c664e3de26e97e5571454  2016-03-25 22:59:23 +0000   \n",
       "3  ce5a6818f7707e2cb61fdcdbba61f5ad  2016-03-25 22:59:23 +0000   \n",
       "4  29c8d290caa451f97b1c32df64477a2c  2016-03-25 22:59:23 +0000   \n",
       "\n",
       "                                         product_url  \\\n",
       "0  http://www.flipkart.com/alisha-solid-women-s-c...   \n",
       "1  http://www.flipkart.com/aw-bellies/p/itmeh4grg...   \n",
       "2  http://www.flipkart.com/alisha-solid-women-s-c...   \n",
       "3  http://www.flipkart.com/alisha-solid-women-s-c...   \n",
       "4  http://www.flipkart.com/dilli-bazaaar-bellies-...   \n",
       "\n",
       "                                        product_name product_category_tree  \\\n",
       "0                Alisha Solid Women's Cycling Shorts             Clothing    \n",
       "1                                         AW Bellies             Footwear    \n",
       "2                Alisha Solid Women's Cycling Shorts             Clothing    \n",
       "3                Alisha Solid Women's Cycling Shorts             Clothing    \n",
       "4  dilli bazaaar Bellies, Corporate Casuals, Casuals             Footwear    \n",
       "\n",
       "                pid  retail_price  discounted_price  \\\n",
       "0  SRTEH2FF9KEDEFGF         999.0             379.0   \n",
       "1  SHOEH4GRSUBJGZXE         999.0             499.0   \n",
       "2  SRTEH2F6HUZMQ6SJ         699.0             267.0   \n",
       "3  SRTEH2FVVKRBAXHB        1199.0             479.0   \n",
       "4  SHOEH3DZBFR88SCK         699.0             349.0   \n",
       "\n",
       "                                               image  is_FK_Advantage_product  \\\n",
       "0  [\"http://img5a.flixcart.com/image/short/u/4/a/...                    False   \n",
       "1  [\"http://img5a.flixcart.com/image/shoe/7/z/z/r...                    False   \n",
       "2  [\"http://img5a.flixcart.com/image/short/6/2/h/...                    False   \n",
       "3  [\"http://img6a.flixcart.com/image/short/p/j/z/...                    False   \n",
       "4  [\"http://img6a.flixcart.com/image/shoe/b/p/n/p...                    False   \n",
       "\n",
       "                                         description       product_rating  \\\n",
       "0  Key Features of Alisha Solid Women's Cycling S...  No rating available   \n",
       "1  Key Features of AW Bellies Sandals Wedges Heel...  No rating available   \n",
       "2  Key Features of Alisha Solid Women's Cycling S...  No rating available   \n",
       "3  Key Features of Alisha Solid Women's Cycling S...  No rating available   \n",
       "4  Key Features of dilli bazaaar Bellies, Corpora...  No rating available   \n",
       "\n",
       "        overall_rating          brand  \\\n",
       "0  No rating available         Alisha   \n",
       "1  No rating available             AW   \n",
       "2  No rating available         Alisha   \n",
       "3  No rating available         Alisha   \n",
       "4  No rating available  dilli bazaaar   \n",
       "\n",
       "                              product_specifications  \n",
       "0  {\"product_specification\"=>[{\"key\"=>\"Number of ...  \n",
       "1  {\"product_specification\"=>[{\"key\"=>\"Ideal For\"...  \n",
       "2  {\"product_specification\"=>[{\"key\"=>\"Number of ...  \n",
       "3  {\"product_specification\"=>[{\"key\"=>\"Number of ...  \n",
       "4  {\"product_specification\"=>[{\"key\"=>\"Occasion\",...  "
      ]
     },
     "execution_count": 2,
     "metadata": {},
     "output_type": "execute_result"
    }
   ],
   "source": [
    "dataset = pd.read_csv(\"train_product_data.csv\")\n",
    "dataset.head(5)"
   ]
  },
  {
   "cell_type": "code",
   "execution_count": 3,
   "id": "e8120fb4",
   "metadata": {},
   "outputs": [
    {
     "data": {
      "text/plain": [
       "(14999, 15)"
      ]
     },
     "execution_count": 3,
     "metadata": {},
     "output_type": "execute_result"
    }
   ],
   "source": [
    "dataset.shape             #dataset has 14999 rows and 15 columns"
   ]
  },
  {
   "cell_type": "code",
   "execution_count": 4,
   "id": "05682161",
   "metadata": {},
   "outputs": [
    {
     "data": {
      "text/plain": [
       "14999"
      ]
     },
     "execution_count": 4,
     "metadata": {},
     "output_type": "execute_result"
    }
   ],
   "source": [
    "dataset.shape[0]"
   ]
  },
  {
   "cell_type": "markdown",
   "id": "a89f1ac9",
   "metadata": {},
   "source": [
    "# Step 3: Exploratory Data Analysis\n"
   ]
  },
  {
   "cell_type": "code",
   "execution_count": 5,
   "id": "ad7be598",
   "metadata": {},
   "outputs": [
    {
     "data": {
      "text/plain": [
       "uniq_id                       0\n",
       "crawl_timestamp               0\n",
       "product_url                   0\n",
       "product_name                  0\n",
       "product_category_tree         0\n",
       "pid                           0\n",
       "retail_price                 57\n",
       "discounted_price             57\n",
       "image                         3\n",
       "is_FK_Advantage_product       0\n",
       "description                   1\n",
       "product_rating                0\n",
       "overall_rating                0\n",
       "brand                      4710\n",
       "product_specifications        6\n",
       "dtype: int64"
      ]
     },
     "execution_count": 5,
     "metadata": {},
     "output_type": "execute_result"
    }
   ],
   "source": [
    "dataset.isnull().sum()       #columns with null values "
   ]
  },
  {
   "cell_type": "code",
   "execution_count": 6,
   "id": "0390b997",
   "metadata": {},
   "outputs": [
    {
     "data": {
      "image/png": "[encoded data removed]",
      "text/plain": [
       "<Figure size 640x480 with 2 Axes>"
      ]
     },
     "metadata": {},
     "output_type": "display_data"
    }
   ],
   "source": [
    "sns.heatmap(dataset.isnull())\n",
    "plt.show()"
   ]
  },
  {
   "cell_type": "code",
   "execution_count": 7,
   "id": "43916fba",
   "metadata": {},
   "outputs": [],
   "source": [
    "dataset.drop(columns = [\"brand\"] , inplace = True)        #here we will drop column brand which has most no. of null values"
   ]
  },
  {
   "cell_type": "code",
   "execution_count": 8,
   "id": "db529091",
   "metadata": {},
   "outputs": [],
   "source": [
    "dataset.dropna(inplace= True)    # here we will drop rows which consist of null values"
   ]
  },
  {
   "cell_type": "code",
   "execution_count": 9,
   "id": "5004b8bd",
   "metadata": {},
   "outputs": [
    {
     "data": {
      "text/plain": [
       "(14934, 14)"
      ]
     },
     "execution_count": 9,
     "metadata": {},
     "output_type": "execute_result"
    }
   ],
   "source": [
    "dataset.shape              #dataset rows and columns after removing null values"
   ]
  },
  {
   "cell_type": "code",
   "execution_count": 10,
   "id": "0db902b2",
   "metadata": {},
   "outputs": [
    {
     "data": {
      "text/plain": [
       "uniq_id                    0\n",
       "crawl_timestamp            0\n",
       "product_url                0\n",
       "product_name               0\n",
       "product_category_tree      0\n",
       "pid                        0\n",
       "retail_price               0\n",
       "discounted_price           0\n",
       "image                      0\n",
       "is_FK_Advantage_product    0\n",
       "description                0\n",
       "product_rating             0\n",
       "overall_rating             0\n",
       "product_specifications     0\n",
       "dtype: int64"
      ]
     },
     "execution_count": 10,
     "metadata": {},
     "output_type": "execute_result"
    }
   ],
   "source": [
    "dataset.isnull().sum()"
   ]
  },
  {
   "cell_type": "code",
   "execution_count": 11,
   "id": "1b08694c",
   "metadata": {},
   "outputs": [
    {
     "data": {
      "image/png": "[encoded data removed]",
      "text/plain": [
       "<Figure size 640x480 with 2 Axes>"
      ]
     },
     "metadata": {},
     "output_type": "display_data"
    }
   ],
   "source": [
    "sns.heatmap(dataset.isnull())\n",
    "plt.show()"
   ]
  },
  {
   "cell_type": "code",
   "execution_count": 12,
   "id": "3309ab03",
   "metadata": {},
   "outputs": [
    {
     "name": "stdout",
     "output_type": "stream",
     "text": [
      "<class 'pandas.core.frame.DataFrame'>\n",
      "Int64Index: 14934 entries, 0 to 14998\n",
      "Data columns (total 14 columns):\n",
      " #   Column                   Non-Null Count  Dtype  \n",
      "---  ------                   --------------  -----  \n",
      " 0   uniq_id                  14934 non-null  object \n",
      " 1   crawl_timestamp          14934 non-null  object \n",
      " 2   product_url              14934 non-null  object \n",
      " 3   product_name             14934 non-null  object \n",
      " 4   product_category_tree    14934 non-null  object \n",
      " 5   pid                      14934 non-null  object \n",
      " 6   retail_price             14934 non-null  float64\n",
      " 7   discounted_price         14934 non-null  float64\n",
      " 8   image                    14934 non-null  object \n",
      " 9   is_FK_Advantage_product  14934 non-null  bool   \n",
      " 10  description              14934 non-null  object \n",
      " 11  product_rating           14934 non-null  object \n",
      " 12  overall_rating           14934 non-null  object \n",
      " 13  product_specifications   14934 non-null  object \n",
      "dtypes: bool(1), float64(2), object(11)\n",
      "memory usage: 1.6+ MB\n"
     ]
    }
   ],
   "source": [
    "dataset.info()     #this will provide datatypes of each columns"
   ]
  },
  {
   "cell_type": "markdown",
   "id": "b647d162",
   "metadata": {},
   "source": [
    "# STEP 4: Converting categorical data into numerical "
   ]
  },
  {
   "cell_type": "code",
   "execution_count": 13,
   "id": "82725156",
   "metadata": {},
   "outputs": [
    {
     "name": "stdout",
     "output_type": "stream",
     "text": [
      "<class 'pandas.core.frame.DataFrame'>\n",
      "Int64Index: 14934 entries, 0 to 14998\n",
      "Columns: 13119 entries, product_category_tree_Automotive  to description_zDelhi.com Car Washer Z1 Ultra High Pressure Washer\n",
      "                         Price: Rs. 3,999\n",
      "\t\t\t\t\n",
      "\t\t\tThe Portable Automatic Car Washer Is An Amazing High Pressure Product For Cleaning Around A Car Without Moving Yourself From The Distance Of 10 Feet. It Can Be Used For Gardening & Agriculture, Weed Killers, Pest Control, Nursery, Sanitary, Construction, And So Much More. The Washing Brush With A Internal Fan Nozzle Can Spray Water While Brushing The Car. The Hose With Strong Power Gun For Powerful Water Pressure. You Can Take The Product In Your Car Anywhere You Go. Its Portable And Can Be Used Just By Using Car Charger Plug, So Can Be Used On The Go. 16Liter Tank, Spray Gun, 6 Meter Hose, Washing Brush, Brush Connector, Power Cable with car socket charger.\n",
      "The Portable Automatic Car Washer Is An Amazing High Pressure Product For Cleaning Around A Car Without Moving Yourself From The Distance Of 10 Feet. It Can Be Used For Gardening & Agriculture, Weed Killers, Pest Control, Nursery, Sanitary, Construction, And So Much More. The Washing Brush With A Internal Fan Nozzle Can Spray Water While Brushing The Car. The Hose With Strong Power Gun For Powerful Water Pressure. You Can Take The Product In Your Car Anywhere You Go. Its Portable And Can Be Used Just By Using Car Charger Plug, So Can Be Used On The Go. 16Liter Tank, Spray Gun, 6 Meter Hose, Washing Brush, Brush Connector, Power Cable with car socket charger.\n",
      "dtypes: uint8(13119)\n",
      "memory usage: 187.0 MB\n"
     ]
    }
   ],
   "source": [
    "en_data= dataset[[\"product_category_tree\",\"description\"]]\n",
    "pd.get_dummies(en_data).info() # converts categorical variables into a format that can be provided to machine learning algorithms to do a better job in prediction."
   ]
  },
  {
   "cell_type": "code",
   "execution_count": 14,
   "id": "0654ad3e",
   "metadata": {},
   "outputs": [
    {
     "data": {
      "text/plain": [
       "array(['Clothing ', 'Footwear ', 'Pens & Stationery ',\n",
       "       'Bags, Wallets & Belts ', 'Home Decor & Festive Needs ',\n",
       "       'Automotive ', 'Tools & Hardware ', 'Baby Care ',\n",
       "       'Mobiles & Accessories ', 'Watches ', 'Toys & School Supplies ',\n",
       "       'Jewellery ', 'Kitchen & Dining ', 'Computers '], dtype=object)"
      ]
     },
     "execution_count": 14,
     "metadata": {},
     "output_type": "execute_result"
    }
   ],
   "source": [
    "dataset[\"product_category_tree\"].unique()"
   ]
  },
  {
   "cell_type": "markdown",
   "id": "b93e3af3",
   "metadata": {},
   "source": [
    "# Step 5: Converting Labels (y_train)\n"
   ]
  },
  {
   "cell_type": "code",
   "execution_count": 16,
   "id": "86d08abc",
   "metadata": {},
   "outputs": [],
   "source": [
    " from sklearn.preprocessing import LabelEncoder"
   ]
  },
  {
   "cell_type": "code",
   "execution_count": 17,
   "id": "139b900f",
   "metadata": {},
   "outputs": [],
   "source": [
    " le= LabelEncoder()     #will convert the dependent column into numerical \n",
    " dataset[\"en_product_category_tree\"] = le.fit_transform(dataset[\"product_category_tree\"])  "
   ]
  },
  {
   "cell_type": "code",
   "execution_count": 18,
   "id": "aea3dc1b",
   "metadata": {
    "scrolled": true
   },
   "outputs": [
    {
     "data": {
      "text/html": [
       "<div>\n",
       "<style scoped>\n",
       "    .dataframe tbody tr th:only-of-type {\n",
       "        vertical-align: middle;\n",
       "    }\n",
       "\n",
       "    .dataframe tbody tr th {\n",
       "        vertical-align: top;\n",
       "    }\n",
       "\n",
       "    .dataframe thead th {\n",
       "        text-align: right;\n",
       "    }\n",
       "</style>\n",
       "<table border=\"1\" class=\"dataframe\">\n",
       "  <thead>\n",
       "    <tr style=\"text-align: right;\">\n",
       "      <th></th>\n",
       "      <th>uniq_id</th>\n",
       "      <th>crawl_timestamp</th>\n",
       "      <th>product_url</th>\n",
       "      <th>product_name</th>\n",
       "      <th>product_category_tree</th>\n",
       "      <th>pid</th>\n",
       "      <th>retail_price</th>\n",
       "      <th>discounted_price</th>\n",
       "      <th>image</th>\n",
       "      <th>is_FK_Advantage_product</th>\n",
       "      <th>description</th>\n",
       "      <th>product_rating</th>\n",
       "      <th>overall_rating</th>\n",
       "      <th>product_specifications</th>\n",
       "      <th>en_product_category_tree</th>\n",
       "    </tr>\n",
       "  </thead>\n",
       "  <tbody>\n",
       "    <tr>\n",
       "      <th>0</th>\n",
       "      <td>c2d766ca982eca8304150849735ffef9</td>\n",
       "      <td>2016-03-25 22:59:23 +0000</td>\n",
       "      <td>http://www.flipkart.com/alisha-solid-women-s-c...</td>\n",
       "      <td>Alisha Solid Women's Cycling Shorts</td>\n",
       "      <td>Clothing</td>\n",
       "      <td>SRTEH2FF9KEDEFGF</td>\n",
       "      <td>999.0</td>\n",
       "      <td>379.0</td>\n",
       "      <td>[\"http://img5a.flixcart.com/image/short/u/4/a/...</td>\n",
       "      <td>False</td>\n",
       "      <td>Key Features of Alisha Solid Women's Cycling S...</td>\n",
       "      <td>No rating available</td>\n",
       "      <td>No rating available</td>\n",
       "      <td>{\"product_specification\"=&gt;[{\"key\"=&gt;\"Number of ...</td>\n",
       "      <td>3</td>\n",
       "    </tr>\n",
       "    <tr>\n",
       "      <th>1</th>\n",
       "      <td>f449ec65dcbc041b6ae5e6a32717d01b</td>\n",
       "      <td>2016-03-25 22:59:23 +0000</td>\n",
       "      <td>http://www.flipkart.com/aw-bellies/p/itmeh4grg...</td>\n",
       "      <td>AW Bellies</td>\n",
       "      <td>Footwear</td>\n",
       "      <td>SHOEH4GRSUBJGZXE</td>\n",
       "      <td>999.0</td>\n",
       "      <td>499.0</td>\n",
       "      <td>[\"http://img5a.flixcart.com/image/shoe/7/z/z/r...</td>\n",
       "      <td>False</td>\n",
       "      <td>Key Features of AW Bellies Sandals Wedges Heel...</td>\n",
       "      <td>No rating available</td>\n",
       "      <td>No rating available</td>\n",
       "      <td>{\"product_specification\"=&gt;[{\"key\"=&gt;\"Ideal For\"...</td>\n",
       "      <td>5</td>\n",
       "    </tr>\n",
       "    <tr>\n",
       "      <th>2</th>\n",
       "      <td>0973b37acd0c664e3de26e97e5571454</td>\n",
       "      <td>2016-03-25 22:59:23 +0000</td>\n",
       "      <td>http://www.flipkart.com/alisha-solid-women-s-c...</td>\n",
       "      <td>Alisha Solid Women's Cycling Shorts</td>\n",
       "      <td>Clothing</td>\n",
       "      <td>SRTEH2F6HUZMQ6SJ</td>\n",
       "      <td>699.0</td>\n",
       "      <td>267.0</td>\n",
       "      <td>[\"http://img5a.flixcart.com/image/short/6/2/h/...</td>\n",
       "      <td>False</td>\n",
       "      <td>Key Features of Alisha Solid Women's Cycling S...</td>\n",
       "      <td>No rating available</td>\n",
       "      <td>No rating available</td>\n",
       "      <td>{\"product_specification\"=&gt;[{\"key\"=&gt;\"Number of ...</td>\n",
       "      <td>3</td>\n",
       "    </tr>\n",
       "    <tr>\n",
       "      <th>3</th>\n",
       "      <td>ce5a6818f7707e2cb61fdcdbba61f5ad</td>\n",
       "      <td>2016-03-25 22:59:23 +0000</td>\n",
       "      <td>http://www.flipkart.com/alisha-solid-women-s-c...</td>\n",
       "      <td>Alisha Solid Women's Cycling Shorts</td>\n",
       "      <td>Clothing</td>\n",
       "      <td>SRTEH2FVVKRBAXHB</td>\n",
       "      <td>1199.0</td>\n",
       "      <td>479.0</td>\n",
       "      <td>[\"http://img6a.flixcart.com/image/short/p/j/z/...</td>\n",
       "      <td>False</td>\n",
       "      <td>Key Features of Alisha Solid Women's Cycling S...</td>\n",
       "      <td>No rating available</td>\n",
       "      <td>No rating available</td>\n",
       "      <td>{\"product_specification\"=&gt;[{\"key\"=&gt;\"Number of ...</td>\n",
       "      <td>3</td>\n",
       "    </tr>\n",
       "    <tr>\n",
       "      <th>4</th>\n",
       "      <td>29c8d290caa451f97b1c32df64477a2c</td>\n",
       "      <td>2016-03-25 22:59:23 +0000</td>\n",
       "      <td>http://www.flipkart.com/dilli-bazaaar-bellies-...</td>\n",
       "      <td>dilli bazaaar Bellies, Corporate Casuals, Casuals</td>\n",
       "      <td>Footwear</td>\n",
       "      <td>SHOEH3DZBFR88SCK</td>\n",
       "      <td>699.0</td>\n",
       "      <td>349.0</td>\n",
       "      <td>[\"http://img6a.flixcart.com/image/shoe/b/p/n/p...</td>\n",
       "      <td>False</td>\n",
       "      <td>Key Features of dilli bazaaar Bellies, Corpora...</td>\n",
       "      <td>No rating available</td>\n",
       "      <td>No rating available</td>\n",
       "      <td>{\"product_specification\"=&gt;[{\"key\"=&gt;\"Occasion\",...</td>\n",
       "      <td>5</td>\n",
       "    </tr>\n",
       "  </tbody>\n",
       "</table>\n",
       "</div>"
      ],
      "text/plain": [
       "                            uniq_id            crawl_timestamp  \\\n",
       "0  c2d766ca982eca8304150849735ffef9  2016-03-25 22:59:23 +0000   \n",
       "1  f449ec65dcbc041b6ae5e6a32717d01b  2016-03-25 22:59:23 +0000   \n",
       "2  0973b37acd0c664e3de26e97e5571454  2016-03-25 22:59:23 +0000   \n",
       "3  ce5a6818f7707e2cb61fdcdbba61f5ad  2016-03-25 22:59:23 +0000   \n",
       "4  29c8d290caa451f97b1c32df64477a2c  2016-03-25 22:59:23 +0000   \n",
       "\n",
       "                                         product_url  \\\n",
       "0  http://www.flipkart.com/alisha-solid-women-s-c...   \n",
       "1  http://www.flipkart.com/aw-bellies/p/itmeh4grg...   \n",
       "2  http://www.flipkart.com/alisha-solid-women-s-c...   \n",
       "3  http://www.flipkart.com/alisha-solid-women-s-c...   \n",
       "4  http://www.flipkart.com/dilli-bazaaar-bellies-...   \n",
       "\n",
       "                                        product_name product_category_tree  \\\n",
       "0                Alisha Solid Women's Cycling Shorts             Clothing    \n",
       "1                                         AW Bellies             Footwear    \n",
       "2                Alisha Solid Women's Cycling Shorts             Clothing    \n",
       "3                Alisha Solid Women's Cycling Shorts             Clothing    \n",
       "4  dilli bazaaar Bellies, Corporate Casuals, Casuals             Footwear    \n",
       "\n",
       "                pid  retail_price  discounted_price  \\\n",
       "0  SRTEH2FF9KEDEFGF         999.0             379.0   \n",
       "1  SHOEH4GRSUBJGZXE         999.0             499.0   \n",
       "2  SRTEH2F6HUZMQ6SJ         699.0             267.0   \n",
       "3  SRTEH2FVVKRBAXHB        1199.0             479.0   \n",
       "4  SHOEH3DZBFR88SCK         699.0             349.0   \n",
       "\n",
       "                                               image  is_FK_Advantage_product  \\\n",
       "0  [\"http://img5a.flixcart.com/image/short/u/4/a/...                    False   \n",
       "1  [\"http://img5a.flixcart.com/image/shoe/7/z/z/r...                    False   \n",
       "2  [\"http://img5a.flixcart.com/image/short/6/2/h/...                    False   \n",
       "3  [\"http://img6a.flixcart.com/image/short/p/j/z/...                    False   \n",
       "4  [\"http://img6a.flixcart.com/image/shoe/b/p/n/p...                    False   \n",
       "\n",
       "                                         description       product_rating  \\\n",
       "0  Key Features of Alisha Solid Women's Cycling S...  No rating available   \n",
       "1  Key Features of AW Bellies Sandals Wedges Heel...  No rating available   \n",
       "2  Key Features of Alisha Solid Women's Cycling S...  No rating available   \n",
       "3  Key Features of Alisha Solid Women's Cycling S...  No rating available   \n",
       "4  Key Features of dilli bazaaar Bellies, Corpora...  No rating available   \n",
       "\n",
       "        overall_rating                             product_specifications  \\\n",
       "0  No rating available  {\"product_specification\"=>[{\"key\"=>\"Number of ...   \n",
       "1  No rating available  {\"product_specification\"=>[{\"key\"=>\"Ideal For\"...   \n",
       "2  No rating available  {\"product_specification\"=>[{\"key\"=>\"Number of ...   \n",
       "3  No rating available  {\"product_specification\"=>[{\"key\"=>\"Number of ...   \n",
       "4  No rating available  {\"product_specification\"=>[{\"key\"=>\"Occasion\",...   \n",
       "\n",
       "   en_product_category_tree  \n",
       "0                         3  \n",
       "1                         5  \n",
       "2                         3  \n",
       "3                         3  \n",
       "4                         5  "
      ]
     },
     "execution_count": 18,
     "metadata": {},
     "output_type": "execute_result"
    }
   ],
   "source": [
    " dataset.head(5)"
   ]
  },
  {
   "cell_type": "markdown",
   "id": "26e8f233",
   "metadata": {},
   "source": [
    "# step 6: Feature Engineering, Feature Selection and Train Test Split"
   ]
  },
  {
   "cell_type": "code",
   "execution_count": 26,
   "id": "0ff0d871",
   "metadata": {},
   "outputs": [],
   "source": [
    "from sklearn.feature_extraction.text import TfidfVectorizer\n",
    "\n",
    "from sklearn.model_selection import train_test_split"
   ]
  },
  {
   "cell_type": "code",
   "execution_count": 27,
   "id": "404583d0",
   "metadata": {},
   "outputs": [],
   "source": [
    "X = dataset[\"description\"]\n",
    "y = dataset[\"product_category_tree\"]\n"
   ]
  },
  {
   "cell_type": "code",
   "execution_count": 28,
   "id": "2da2a1dc",
   "metadata": {},
   "outputs": [],
   "source": [
    "tfidf = TfidfVectorizer()             #independent feature is converted into vectorized form using tfidf\n",
    "X_tfidf = tfidf.fit_transform(X)\n",
    "\n",
    "#split the dataset into train and test \n",
    "x_train, x_test, y_train, y_test = train_test_split(X_tfidf, y, test_size=0.2, random_state=42)\n"
   ]
  },
  {
   "cell_type": "code",
   "execution_count": 29,
   "id": "2b3761e6",
   "metadata": {},
   "outputs": [
    {
     "data": {
      "text/plain": [
       "((11947, 20028), (11947,))"
      ]
     },
     "execution_count": 29,
     "metadata": {},
     "output_type": "execute_result"
    }
   ],
   "source": [
    "x_train.shape ,y_train.shape"
   ]
  },
  {
   "cell_type": "code",
   "execution_count": 30,
   "id": "06b968d5",
   "metadata": {},
   "outputs": [
    {
     "data": {
      "text/plain": [
       "((2987, 20028), (2987,))"
      ]
     },
     "execution_count": 30,
     "metadata": {},
     "output_type": "execute_result"
    }
   ],
   "source": [
    "x_test.shape, y_test.shape"
   ]
  },
  {
   "cell_type": "markdown",
   "id": "7f88cef2",
   "metadata": {},
   "source": [
    "# Step 7: Model Selection "
   ]
  },
  {
   "cell_type": "code",
   "execution_count": 31,
   "id": "a1127dd5",
   "metadata": {},
   "outputs": [],
   "source": [
    "from sklearn.linear_model import LogisticRegression"
   ]
  },
  {
   "cell_type": "code",
   "execution_count": 32,
   "id": "ec622dc0",
   "metadata": {},
   "outputs": [
    {
     "data": {
      "text/html": [
       "<style>#sk-container-id-1 {color: black;background-color: white;}#sk-container-id-1 pre{padding: 0;}#sk-container-id-1 div.sk-toggleable {background-color: white;}#sk-container-id-1 label.sk-toggleable__label {cursor: pointer;display: block;width: 100%;margin-bottom: 0;padding: 0.3em;box-sizing: border-box;text-align: center;}#sk-container-id-1 label.sk-toggleable__label-arrow:before {content: \"▸\";float: left;margin-right: 0.25em;color: #696969;}#sk-container-id-1 label.sk-toggleable__label-arrow:hover:before {color: black;}#sk-container-id-1 div.sk-estimator:hover label.sk-toggleable__label-arrow:before {color: black;}#sk-container-id-1 div.sk-toggleable__content {max-height: 0;max-width: 0;overflow: hidden;text-align: left;background-color: #f0f8ff;}#sk-container-id-1 div.sk-toggleable__content pre {margin: 0.2em;color: black;border-radius: 0.25em;background-color: #f0f8ff;}#sk-container-id-1 input.sk-toggleable__control:checked~div.sk-toggleable__content {max-height: 200px;max-width: 100%;overflow: auto;}#sk-container-id-1 input.sk-toggleable__control:checked~label.sk-toggleable__label-arrow:before {content: \"▾\";}#sk-container-id-1 div.sk-estimator input.sk-toggleable__control:checked~label.sk-toggleable__label {background-color: #d4ebff;}#sk-container-id-1 div.sk-label input.sk-toggleable__control:checked~label.sk-toggleable__label {background-color: #d4ebff;}#sk-container-id-1 input.sk-hidden--visually {border: 0;clip: rect(1px 1px 1px 1px);clip: rect(1px, 1px, 1px, 1px);height: 1px;margin: -1px;overflow: hidden;padding: 0;position: absolute;width: 1px;}#sk-container-id-1 div.sk-estimator {font-family: monospace;background-color: #f0f8ff;border: 1px dotted black;border-radius: 0.25em;box-sizing: border-box;margin-bottom: 0.5em;}#sk-container-id-1 div.sk-estimator:hover {background-color: #d4ebff;}#sk-container-id-1 div.sk-parallel-item::after {content: \"\";width: 100%;border-bottom: 1px solid gray;flex-grow: 1;}#sk-container-id-1 div.sk-label:hover label.sk-toggleable__label {background-color: #d4ebff;}#sk-container-id-1 div.sk-serial::before {content: \"\";position: absolute;border-left: 1px solid gray;box-sizing: border-box;top: 0;bottom: 0;left: 50%;z-index: 0;}#sk-container-id-1 div.sk-serial {display: flex;flex-direction: column;align-items: center;background-color: white;padding-right: 0.2em;padding-left: 0.2em;position: relative;}#sk-container-id-1 div.sk-item {position: relative;z-index: 1;}#sk-container-id-1 div.sk-parallel {display: flex;align-items: stretch;justify-content: center;background-color: white;position: relative;}#sk-container-id-1 div.sk-item::before, #sk-container-id-1 div.sk-parallel-item::before {content: \"\";position: absolute;border-left: 1px solid gray;box-sizing: border-box;top: 0;bottom: 0;left: 50%;z-index: -1;}#sk-container-id-1 div.sk-parallel-item {display: flex;flex-direction: column;z-index: 1;position: relative;background-color: white;}#sk-container-id-1 div.sk-parallel-item:first-child::after {align-self: flex-end;width: 50%;}#sk-container-id-1 div.sk-parallel-item:last-child::after {align-self: flex-start;width: 50%;}#sk-container-id-1 div.sk-parallel-item:only-child::after {width: 0;}#sk-container-id-1 div.sk-dashed-wrapped {border: 1px dashed gray;margin: 0 0.4em 0.5em 0.4em;box-sizing: border-box;padding-bottom: 0.4em;background-color: white;}#sk-container-id-1 div.sk-label label {font-family: monospace;font-weight: bold;display: inline-block;line-height: 1.2em;}#sk-container-id-1 div.sk-label-container {text-align: center;}#sk-container-id-1 div.sk-container {/* jupyter's `normalize.less` sets `[hidden] { display: none; }` but bootstrap.min.css set `[hidden] { display: none !important; }` so we also need the `!important` here to be able to override the default hidden behavior on the sphinx rendered scikit-learn.org. See: https://github.com/scikit-learn/scikit-learn/issues/21755 */display: inline-block !important;position: relative;}#sk-container-id-1 div.sk-text-repr-fallback {display: none;}</style><div id=\"sk-container-id-1\" class=\"sk-top-container\"><div class=\"sk-text-repr-fallback\"><pre>LogisticRegression()</pre><b>In a Jupyter environment, please rerun this cell to show the HTML representation or trust the notebook. <br />On GitHub, the HTML representation is unable to render, please try loading this page with nbviewer.org.</b></div><div class=\"sk-container\" hidden><div class=\"sk-item\"><div class=\"sk-estimator sk-toggleable\"><input class=\"sk-toggleable__control sk-hidden--visually\" id=\"sk-estimator-id-1\" type=\"checkbox\" checked><label for=\"sk-estimator-id-1\" class=\"sk-toggleable__label sk-toggleable__label-arrow\">LogisticRegression</label><div class=\"sk-toggleable__content\"><pre>LogisticRegression()</pre></div></div></div></div></div>"
      ],
      "text/plain": [
       "LogisticRegression()"
      ]
     },
     "execution_count": 32,
     "metadata": {},
     "output_type": "execute_result"
    }
   ],
   "source": [
    "#logistic regression model is selected for multinominal-classification problem\n",
    "lr = LogisticRegression()   # object is created\n",
    "lr.fit(x_train,y_train)     # model is applied into training dataset"
   ]
  },
  {
   "cell_type": "code",
   "execution_count": 33,
   "id": "d1f1e490",
   "metadata": {},
   "outputs": [
    {
     "data": {
      "text/plain": [
       "96.91998660863743"
      ]
     },
     "execution_count": 33,
     "metadata": {},
     "output_type": "execute_result"
    }
   ],
   "source": [
    "lr.score(x_test, y_test)*100       # and the score of test data is as  shown"
   ]
  },
  {
   "cell_type": "code",
   "execution_count": 38,
   "id": "5410e205",
   "metadata": {},
   "outputs": [],
   "source": [
    "prediction = lr.predict(tfidf.transform([\"TheLostPuppy Back Cover for Apple iPad Air (Multicolor) Price: Rs. 599Designed To Protect And Impress. The Lost Puppy Brings You Robust Mobile Covers In All Sizes. With The Special Anti-Slip Technology This Protects Your Phone In More Ways Than One. The Matte Finish And Superior Quality Add Elegance, Class And Sturdiness To The Covers.\"]))\n"
   ]
  },
  {
   "cell_type": "code",
   "execution_count": 39,
   "id": "890d703b",
   "metadata": {},
   "outputs": [
    {
     "data": {
      "text/plain": [
       "array(['Mobiles & Accessories '], dtype=object)"
      ]
     },
     "execution_count": 39,
     "metadata": {},
     "output_type": "execute_result"
    }
   ],
   "source": [
    "prediction             # predicted results"
   ]
  },
  {
   "cell_type": "markdown",
   "id": "24b46fa8",
   "metadata": {},
   "source": [
    "# Step 8: Fine Tuning using GridSearchCV"
   ]
  },
  {
   "cell_type": "code",
   "execution_count": 40,
   "id": "3c3db214",
   "metadata": {},
   "outputs": [],
   "source": [
    "from sklearn.model_selection import GridSearchCV\n",
    "#for fine tuning and gridsearchcv hyperparameter is used for Exhaustiveness, Cross-Validation, Automation, Performance Improvement, Reproducibility"
   ]
  },
  {
   "cell_type": "code",
   "execution_count": 41,
   "id": "71efbd6e",
   "metadata": {
    "scrolled": true
   },
   "outputs": [
    {
     "name": "stderr",
     "output_type": "stream",
     "text": [
      "C:\\anaconda\\Lib\\site-packages\\sklearn\\linear_model\\_logistic.py:458: ConvergenceWarning: lbfgs failed to converge (status=1):\n",
      "STOP: TOTAL NO. of ITERATIONS REACHED LIMIT.\n",
      "\n",
      "Increase the number of iterations (max_iter) or scale the data as shown in:\n",
      "    https://scikit-learn.org/stable/modules/preprocessing.html\n",
      "Please also refer to the documentation for alternative solver options:\n",
      "    https://scikit-learn.org/stable/modules/linear_model.html#logistic-regression\n",
      "  n_iter_i = _check_optimize_result(\n",
      "C:\\anaconda\\Lib\\site-packages\\sklearn\\linear_model\\_logistic.py:458: ConvergenceWarning: lbfgs failed to converge (status=1):\n",
      "STOP: TOTAL NO. of ITERATIONS REACHED LIMIT.\n",
      "\n",
      "Increase the number of iterations (max_iter) or scale the data as shown in:\n",
      "    https://scikit-learn.org/stable/modules/preprocessing.html\n",
      "Please also refer to the documentation for alternative solver options:\n",
      "    https://scikit-learn.org/stable/modules/linear_model.html#logistic-regression\n",
      "  n_iter_i = _check_optimize_result(\n",
      "C:\\anaconda\\Lib\\site-packages\\sklearn\\linear_model\\_logistic.py:458: ConvergenceWarning: lbfgs failed to converge (status=1):\n",
      "STOP: TOTAL NO. of ITERATIONS REACHED LIMIT.\n",
      "\n",
      "Increase the number of iterations (max_iter) or scale the data as shown in:\n",
      "    https://scikit-learn.org/stable/modules/preprocessing.html\n",
      "Please also refer to the documentation for alternative solver options:\n",
      "    https://scikit-learn.org/stable/modules/linear_model.html#logistic-regression\n",
      "  n_iter_i = _check_optimize_result(\n",
      "C:\\anaconda\\Lib\\site-packages\\sklearn\\linear_model\\_logistic.py:458: ConvergenceWarning: lbfgs failed to converge (status=1):\n",
      "STOP: TOTAL NO. of ITERATIONS REACHED LIMIT.\n",
      "\n",
      "Increase the number of iterations (max_iter) or scale the data as shown in:\n",
      "    https://scikit-learn.org/stable/modules/preprocessing.html\n",
      "Please also refer to the documentation for alternative solver options:\n",
      "    https://scikit-learn.org/stable/modules/linear_model.html#logistic-regression\n",
      "  n_iter_i = _check_optimize_result(\n",
      "C:\\anaconda\\Lib\\site-packages\\sklearn\\linear_model\\_logistic.py:458: ConvergenceWarning: lbfgs failed to converge (status=1):\n",
      "STOP: TOTAL NO. of ITERATIONS REACHED LIMIT.\n",
      "\n",
      "Increase the number of iterations (max_iter) or scale the data as shown in:\n",
      "    https://scikit-learn.org/stable/modules/preprocessing.html\n",
      "Please also refer to the documentation for alternative solver options:\n",
      "    https://scikit-learn.org/stable/modules/linear_model.html#logistic-regression\n",
      "  n_iter_i = _check_optimize_result(\n",
      "C:\\anaconda\\Lib\\site-packages\\sklearn\\linear_model\\_logistic.py:458: ConvergenceWarning: lbfgs failed to converge (status=1):\n",
      "STOP: TOTAL NO. of ITERATIONS REACHED LIMIT.\n",
      "\n",
      "Increase the number of iterations (max_iter) or scale the data as shown in:\n",
      "    https://scikit-learn.org/stable/modules/preprocessing.html\n",
      "Please also refer to the documentation for alternative solver options:\n",
      "    https://scikit-learn.org/stable/modules/linear_model.html#logistic-regression\n",
      "  n_iter_i = _check_optimize_result(\n",
      "C:\\anaconda\\Lib\\site-packages\\sklearn\\linear_model\\_logistic.py:458: ConvergenceWarning: lbfgs failed to converge (status=1):\n",
      "STOP: TOTAL NO. of ITERATIONS REACHED LIMIT.\n",
      "\n",
      "Increase the number of iterations (max_iter) or scale the data as shown in:\n",
      "    https://scikit-learn.org/stable/modules/preprocessing.html\n",
      "Please also refer to the documentation for alternative solver options:\n",
      "    https://scikit-learn.org/stable/modules/linear_model.html#logistic-regression\n",
      "  n_iter_i = _check_optimize_result(\n",
      "C:\\anaconda\\Lib\\site-packages\\sklearn\\linear_model\\_logistic.py:458: ConvergenceWarning: lbfgs failed to converge (status=1):\n",
      "STOP: TOTAL NO. of ITERATIONS REACHED LIMIT.\n",
      "\n",
      "Increase the number of iterations (max_iter) or scale the data as shown in:\n",
      "    https://scikit-learn.org/stable/modules/preprocessing.html\n",
      "Please also refer to the documentation for alternative solver options:\n",
      "    https://scikit-learn.org/stable/modules/linear_model.html#logistic-regression\n",
      "  n_iter_i = _check_optimize_result(\n",
      "C:\\anaconda\\Lib\\site-packages\\sklearn\\linear_model\\_logistic.py:458: ConvergenceWarning: lbfgs failed to converge (status=1):\n",
      "STOP: TOTAL NO. of ITERATIONS REACHED LIMIT.\n",
      "\n",
      "Increase the number of iterations (max_iter) or scale the data as shown in:\n",
      "    https://scikit-learn.org/stable/modules/preprocessing.html\n",
      "Please also refer to the documentation for alternative solver options:\n",
      "    https://scikit-learn.org/stable/modules/linear_model.html#logistic-regression\n",
      "  n_iter_i = _check_optimize_result(\n",
      "C:\\anaconda\\Lib\\site-packages\\sklearn\\linear_model\\_logistic.py:458: ConvergenceWarning: lbfgs failed to converge (status=1):\n",
      "STOP: TOTAL NO. of ITERATIONS REACHED LIMIT.\n",
      "\n",
      "Increase the number of iterations (max_iter) or scale the data as shown in:\n",
      "    https://scikit-learn.org/stable/modules/preprocessing.html\n",
      "Please also refer to the documentation for alternative solver options:\n",
      "    https://scikit-learn.org/stable/modules/linear_model.html#logistic-regression\n",
      "  n_iter_i = _check_optimize_result(\n",
      "C:\\anaconda\\Lib\\site-packages\\sklearn\\linear_model\\_logistic.py:458: ConvergenceWarning: lbfgs failed to converge (status=1):\n",
      "STOP: TOTAL NO. of ITERATIONS REACHED LIMIT.\n",
      "\n",
      "Increase the number of iterations (max_iter) or scale the data as shown in:\n",
      "    https://scikit-learn.org/stable/modules/preprocessing.html\n",
      "Please also refer to the documentation for alternative solver options:\n",
      "    https://scikit-learn.org/stable/modules/linear_model.html#logistic-regression\n",
      "  n_iter_i = _check_optimize_result(\n"
     ]
    },
    {
     "name": "stdout",
     "output_type": "stream",
     "text": [
      "Best parameters found: {'C': 100, 'solver': 'lbfgs'}\n",
      "Best score: 0.9812506414511419\n"
     ]
    },
    {
     "name": "stderr",
     "output_type": "stream",
     "text": [
      "C:\\anaconda\\Lib\\site-packages\\sklearn\\linear_model\\_logistic.py:458: ConvergenceWarning: lbfgs failed to converge (status=1):\n",
      "STOP: TOTAL NO. of ITERATIONS REACHED LIMIT.\n",
      "\n",
      "Increase the number of iterations (max_iter) or scale the data as shown in:\n",
      "    https://scikit-learn.org/stable/modules/preprocessing.html\n",
      "Please also refer to the documentation for alternative solver options:\n",
      "    https://scikit-learn.org/stable/modules/linear_model.html#logistic-regression\n",
      "  n_iter_i = _check_optimize_result(\n"
     ]
    }
   ],
   "source": [
    "# Define the hyperparameter grid\n",
    "\n",
    "parameters = {'C': [0.1, 1, 10, 100], 'solver': ['newton-cg', 'lbfgs', 'liblinear']}\n",
    "\n",
    "# Set up Grid Search\n",
    "grid_search = GridSearchCV(LogisticRegression(), parameters, cv=5)\n",
    "\n",
    "# Fit the model with Grid Search\n",
    "grid_search.fit(x_train, y_train)\n",
    "\n",
    "# Get the best parameters and score\n",
    "print(f\"Best parameters found: {grid_search.best_params_}\")\n",
    "print(f\"Best score: {grid_search.best_score_}\")\n",
    "\n",
    "# Evaluate the best model on the test set\n",
    "best_model = grid_search.best_estimator_\n",
    "best_model.fit(x_train, y_train)\n",
    "\n",
    "prediction = best_model.predict(tfidf.transform([\"TheLostPuppy Back Cover for Apple iPad Air (Multicolor) Price: Rs. 599Designed To Protect And Impress. The Lost Puppy Brings You Robust Mobile Covers In All Sizes. With The Special Anti-Slip Technology This Protects Your Phone In More Ways Than One. The Matte Finish And Superior Quality Add Elegance, Class And Sturdiness To The Covers.\"]))\n"
   ]
  },
  {
   "cell_type": "markdown",
   "id": "6090b733",
   "metadata": {},
   "source": [
    "# Step 9: predictions and evaluations"
   ]
  },
  {
   "cell_type": "code",
   "execution_count": 43,
   "id": "1ef1e678",
   "metadata": {},
   "outputs": [
    {
     "name": "stdout",
     "output_type": "stream",
     "text": [
      "Test Accuracy: 0.9829260127217945\n",
      "Classification Report:\n",
      "                             precision    recall  f1-score   support\n",
      "\n",
      "                Automotive        0.98      0.99      0.99       202\n",
      "                 Baby Care        0.94      0.89      0.91        36\n",
      "     Bags, Wallets & Belts        1.00      0.95      0.97        41\n",
      "                  Clothing        1.00      1.00      1.00      1051\n",
      "                 Computers        0.96      0.97      0.96        95\n",
      "                  Footwear        1.00      1.00      1.00       206\n",
      "Home Decor & Festive Needs        0.98      0.97      0.97       126\n",
      "                 Jewellery        1.00      1.00      1.00       668\n",
      "          Kitchen & Dining        0.95      0.99      0.97       112\n",
      "     Mobiles & Accessories        0.98      0.98      0.98       150\n",
      "         Pens & Stationery        0.91      0.71      0.79        68\n",
      "          Tools & Hardware        1.00      0.98      0.99        66\n",
      "    Toys & School Supplies        0.70      0.85      0.76        46\n",
      "                   Watches        1.00      1.00      1.00       120\n",
      "\n",
      "                   accuracy                           0.98      2987\n",
      "                  macro avg       0.96      0.95      0.95      2987\n",
      "               weighted avg       0.98      0.98      0.98      2987\n",
      "\n",
      "Confusion Matrix:\n",
      "[[ 200    0    0    1    0    0    0    0    1    0    0    0    0    0]\n",
      " [   0   32    0    0    0    0    0    0    2    0    1    0    1    0]\n",
      " [   0    0   39    2    0    0    0    0    0    0    0    0    0    0]\n",
      " [   0    2    0 1049    0    0    0    0    0    0    0    0    0    0]\n",
      " [   0    0    0    0   92    0    0    0    0    3    0    0    0    0]\n",
      " [   0    0    0    1    0  205    0    0    0    0    0    0    0    0]\n",
      " [   0    0    0    1    1    0  122    0    2    0    0    0    0    0]\n",
      " [   0    0    0    0    1    0    0  667    0    0    0    0    0    0]\n",
      " [   1    0    0    0    0    0    0    0  111    0    0    0    0    0]\n",
      " [   1    0    0    0    2    0    0    0    0  147    0    0    0    0]\n",
      " [   0    0    0    0    0    0    1    2    1    0   48    0   16    0]\n",
      " [   0    0    0    0    0    0    1    0    0    0    0   65    0    0]\n",
      " [   2    0    0    0    0    0    1    0    0    0    4    0   39    0]\n",
      " [   0    0    0    0    0    0    0    0    0    0    0    0    0  120]]\n"
     ]
    },
    {
     "data": {
      "image/png": "[encoded data removed]",
      "text/plain": [
       "<Figure size 1000x700 with 2 Axes>"
      ]
     },
     "metadata": {},
     "output_type": "display_data"
    }
   ],
   "source": [
    "from sklearn.metrics import accuracy_score, classification_report, confusion_matrix\n",
    "\n",
    "# Predictions on test data\n",
    "y_pred = best_model.predict(x_test)\n",
    "\n",
    "# Test accuracy\n",
    "test_accuracy = accuracy_score(y_test, y_pred)\n",
    "print(f\"Test Accuracy: {test_accuracy}\")\n",
    "\n",
    "# Classification report\n",
    "class_report = classification_report(y_test, y_pred)\n",
    "print(f\"Classification Report:\\n{class_report}\")\n",
    "\n",
    "# Confusion matrix\n",
    "conf_matrix = confusion_matrix(y_test, y_pred)\n",
    "print(f\"Confusion Matrix:\\n{conf_matrix}\")\n",
    "\n",
    "# Visualize the confusion matrix\n",
    "plt.figure(figsize=(10, 7))\n",
    "sns.heatmap(conf_matrix, annot=True, fmt='d', cmap='Blues')\n",
    "\n",
    "# Save heatmap\n",
    "plt.title(\"Confusion Matrix Heatmap\")\n",
    "plt.ylabel(\"True Labels\")\n",
    "plt.xlabel(\"Predicted Labels\")\n",
    "plt.savefig(\"confusion_matrix_heatmap.png\")\n",
    "plt.show()\n"
   ]
  },
  {
   "cell_type": "markdown",
   "id": "62513c33",
   "metadata": {},
   "source": [
    "# Step :10 prediction on test data"
   ]
  },
  {
   "cell_type": "code",
   "execution_count": 44,
   "id": "7a4e398f",
   "metadata": {},
   "outputs": [
    {
     "name": "stdout",
     "output_type": "stream",
     "text": [
      "Predictions saved to test_data_with_predictions.csv\n"
     ]
    }
   ],
   "source": [
    "import pandas as pd\n",
    "\n",
    "# Load the CSV file\n",
    "test_data = pd.read_csv('test_data.csv')\n",
    "\n",
    "# Assuming the test data has the same structure as your training data\n",
    "X_test_new = test_data['description']  # Adjust column name as needed\n",
    "\n",
    "# Apply the same TF-IDF transformation\n",
    "X_test_tfidf_new = tfidf.transform(X_test_new)\n",
    "\n",
    "# Make predictions\n",
    "predictions = best_model.predict(X_test_tfidf_new)\n",
    "\n",
    "# Add predictions to the DataFrame\n",
    "test_data['predictions'] = predictions\n",
    "\n",
    "# Save the predictions to a new CSV file\n",
    "test_data.to_csv('test_data_with_predictions.csv', index=False)\n",
    "\n",
    "print(\"Predictions saved to test_data_with_predictions.csv\")\n"
   ]
  },
  {
   "cell_type": "markdown",
   "id": "fc2617da",
   "metadata": {},
   "source": [
    "# Step 11:prediction saved to test results file"
   ]
  },
  {
   "cell_type": "code",
   "execution_count": 48,
   "id": "7d1d7438",
   "metadata": {},
   "outputs": [
    {
     "name": "stdout",
     "output_type": "stream",
     "text": [
      "Predictions saved to test_results_with_predictions.csv\n"
     ]
    }
   ],
   "source": [
    "import pandas as pd\n",
    "\n",
    "# Load the CSV file\n",
    "test_results = pd.read_csv('test_results.csv')\n",
    "\n",
    "# Ensure the test data has the correct format\n",
    "X_test_new = test_results['product_category_tree']  # Adjust column name if different\n",
    "\n",
    "# Apply the same TF-IDF transformation\n",
    "X_test_tfidf_new = tfidf.transform(X_test_new)\n",
    "\n",
    "# Make predictions\n",
    "predictions = best_model.predict(X_test_tfidf_new)\n",
    "\n",
    "# Add predictions to the DataFrame\n",
    "test_results['predictions'] = predictions\n",
    "\n",
    "# Save the predictions to a new CSV file\n",
    "test_results.to_csv('test_results_with_predictions.csv', index=False)\n",
    "\n",
    "print(\"Predictions saved to test_results_with_predictions.csv\")\n"
   ]
  },
  {
   "cell_type": "code",
   "execution_count": null,
   "id": "cba2d849",
   "metadata": {},
   "outputs": [],
   "source": []
  }
 ],
 "metadata": {
  "kernelspec": {
   "display_name": "Python 3 (ipykernel)",
   "language": "python",
   "name": "python3"
  },
  "language_info": {
   "codemirror_mode": {
    "name": "ipython",
    "version": 3
   },
   "file_extension": ".py",
   "mimetype": "text/x-python",
   "name": "python",
   "nbconvert_exporter": "python",
   "pygments_lexer": "ipython3",
   "version": "3.11.7"
  }
 },
 "nbformat": 4,
 "nbformat_minor": 5
}
